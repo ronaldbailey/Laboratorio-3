{
 "cells": [
  {
   "cell_type": "code",
   "execution_count": 1,
   "metadata": {},
   "outputs": [
    {
     "name": "stderr",
     "output_type": "stream",
     "text": [
      "Cloning into 'Laboratorio-3'...\n"
     ]
    }
   ],
   "source": [
    "! git clone https://github.com/ronaldbailey/Laboratorio-3.git"
   ]
  },
  {
   "cell_type": "code",
   "execution_count": 30,
   "metadata": {},
   "outputs": [
    {
     "name": "stderr",
     "output_type": "stream",
     "text": [
      "warning: LF will be replaced by CRLF in Laboratorio3.ipynb.\n",
      "The file will have its original line endings in your working directory\n"
     ]
    },
    {
     "name": "stdout",
     "output_type": "stream",
     "text": [
      "[main 630d974] Primera parte\n",
      " 1 file changed, 92 insertions(+), 5 deletions(-)\n"
     ]
    },
    {
     "name": "stderr",
     "output_type": "stream",
     "text": [
      "To https://github.com/ronaldbailey/Laboratorio-3.git\n",
      "   c5763c2..630d974  main -> main\n"
     ]
    }
   ],
   "source": [
    "! git add .\n",
    "! git commit -m \"Primera parte\"\n",
    "! git push"
   ]
  },
  {
   "attachments": {},
   "cell_type": "markdown",
   "metadata": {},
   "source": [
    "# Laboratorio: Análisis de Datos con Python\n"
   ]
  },
  {
   "attachments": {},
   "cell_type": "markdown",
   "metadata": {},
   "source": [
    "Para este laboratorio deberá entregar el link de GitHub a un\n",
    "Notebook de Jupyter con todo el código y comentarios que\n",
    "considere necesario para dar solución a lo planteado, copie la\n",
    "pregunta en una celda de Markdown y de solución a la misma con\n",
    "las celdas de código de Python."
   ]
  },
  {
   "attachments": {},
   "cell_type": "markdown",
   "metadata": {},
   "source": [
    "- Parte 1: Numpy:\n",
    "<p>\n",
    "Para los ejercicios siguiente genere el código que considere\n",
    "<p>\n",
    "para resolver el problema que se le plantea."
   ]
  },
  {
   "attachments": {},
   "cell_type": "markdown",
   "metadata": {},
   "source": [
    "1) ¿Cuál es el tamaño en bytes de un array de 1000\n",
    "elementos de tipo booleano?"
   ]
  },
  {
   "cell_type": "code",
   "execution_count": 4,
   "metadata": {},
   "outputs": [
    {
     "name": "stdout",
     "output_type": "stream",
     "text": [
      "El array ocupa 1000 bytes.\n"
     ]
    }
   ],
   "source": [
    "import numpy as np\n",
    "\n",
    "# Crear un array de 1000 elementos booleanos con valores aleatorios\n",
    "arr = np.random.choice([True, False], size=1000)\n",
    "\n",
    "# Mostrar el array\n",
    "#print(arr)\n",
    "\n",
    "# Obtener el tamaño en bytes del array\n",
    "tamaño = arr.nbytes\n",
    "\n",
    "# Mostrar el tamaño en bytes del array\n",
    "print(\"El array ocupa\", tamaño, \"bytes.\")"
   ]
  },
  {
   "attachments": {},
   "cell_type": "markdown",
   "metadata": {},
   "source": [
    "2) Cree un array cuyos elementos sean los enteros pares en\n",
    "[1,100] y en orden decreciente. Muestre los 10 últimos\n",
    "por pantalla."
   ]
  },
  {
   "cell_type": "code",
   "execution_count": 7,
   "metadata": {},
   "outputs": [
    {
     "name": "stdout",
     "output_type": "stream",
     "text": [
      "[20 18 16 14 12 10  8  6  4  2]\n"
     ]
    }
   ],
   "source": [
    "import numpy as np\n",
    "\n",
    "# Crear un array con los enteros pares del 1 al 100 en orden decreciente\n",
    "arr = np.arange(100, 0, -2)\n",
    "\n",
    "# Mostrar los últimos 10 elementos del array\n",
    "print(arr[-10:])"
   ]
  },
  {
   "attachments": {},
   "cell_type": "markdown",
   "metadata": {},
   "source": [
    "3) Dado el array\n",
    "<p>2 4 5 6\n",
    "<p>0 3 7 4\n",
    "<p>8 8 5 2\n",
    "<p>1 5 6 1\n",
    "<p>Seleccione con una instrucción el subarray de elementos\n",
    "<p>0 3 7 4\n",
    "<p>Después, seleccione el subarray de elementos\n",
    "<p>2 5\n",
    "<p>8 5"
   ]
  },
  {
   "cell_type": "code",
   "execution_count": 22,
   "metadata": {},
   "outputs": [
    {
     "name": "stdout",
     "output_type": "stream",
     "text": [
      "[0 3 7 4]\n",
      "[2 5]\n",
      "[8 5]\n"
     ]
    }
   ],
   "source": [
    "import numpy as np\n",
    "\n",
    "# Crear el array original\n",
    "arr = np.array([[2, 4, 5, 6],\n",
    "                [0, 3, 7, 4],\n",
    "                [8, 8, 5, 2],\n",
    "                [1, 5, 6, 1]])\n",
    "\n",
    "# Imprimir el subarray resultante\n",
    "print(arr[1])\n",
    "# Seleccionar el subarray de elementos 2 5 8 5\n",
    "\n",
    "# Imprimir el subarray resultante\n",
    "print(arr[[0, 2], [0, 2]])\n",
    "print(arr[[2, 2], [0, 2]])"
   ]
  },
  {
   "attachments": {},
   "cell_type": "markdown",
   "metadata": {},
   "source": [
    "4) Dados los arrays\n",
    "<p> a = [1, 4, 2, 7] y\n",
    "<p> b = [1, 3, 2, 9],\n",
    "<p>obtenga la media aritmética de la diferencia (a-b)."
   ]
  },
  {
   "cell_type": "code",
   "execution_count": 24,
   "metadata": {},
   "outputs": [
    {
     "name": "stdout",
     "output_type": "stream",
     "text": [
      "-0.25\n"
     ]
    }
   ],
   "source": [
    "import numpy as np\n",
    "\n",
    "a = [1, 4, 2, 7]\n",
    "b = [1, 3, 2, 9]\n",
    "\n",
    "# Calcular la diferencia a-b\n",
    "diferencia = np.subtract(a, b)\n",
    "\n",
    "# Calcular la media aritmética de la diferencia\n",
    "media = np.mean(diferencia)\n",
    "\n",
    "# Imprimir el resultado\n",
    "print(media)\n"
   ]
  },
  {
   "attachments": {},
   "cell_type": "markdown",
   "metadata": {},
   "source": [
    "5) Tengo valores de cordenadas (x, y) en las columnas\n",
    "del array\n",
    "<p>1.33 4.5\n",
    "<p>30.0 10.7\n",
    "<p>70.2 0.5"
   ]
  },
  {
   "cell_type": "code",
   "execution_count": 26,
   "metadata": {},
   "outputs": [
    {
     "name": "stdout",
     "output_type": "stream",
     "text": [
      "(4, 2)\n"
     ]
    }
   ],
   "source": [
    "import numpy as np\n",
    "\n",
    "coordenadas = np.array([[1.33, 4.5],\n",
    "                        [30.0, 10.7],\n",
    "                        [70.2, 0.5]])\n",
    "\n",
    "nuevas_coordenadas = np.array([[37.1, -3.6]])\n",
    "\n",
    "# Agregar las nuevas coordenadas al array existente\n",
    "coordenadas = np.append(coordenadas, nuevas_coordenadas, axis=0)\n",
    "\n",
    "# Imprimir las dimensiones del nuevo array\n",
    "print(coordenadas.shape)\n"
   ]
  },
  {
   "attachments": {},
   "cell_type": "markdown",
   "metadata": {},
   "source": [
    "6) Copie el array del ejercicio anterior.\n",
    "<p> Traspóngalo (.\n",
    "<p>Agregue ahora dos nuevos pares de coordenadas: (10.8,\n",
    "3.0) y (35.8, 12.0)."
   ]
  },
  {
   "cell_type": "code",
   "execution_count": 29,
   "metadata": {},
   "outputs": [
    {
     "name": "stdout",
     "output_type": "stream",
     "text": [
      "[[ 1.33  4.5 ]\n",
      " [30.   10.7 ]\n",
      " [70.2   0.5 ]]\n"
     ]
    }
   ],
   "source": [
    "import numpy as np\n",
    "\n",
    "coordenadas = np.array([[1.33, 4.5],\n",
    "                        [30.0, 10.7],\n",
    "                        [70.2, 0.5]])\n",
    "\n",
    "# Copiar y transponer el array existente\n",
    "coordenadas_t = np.transpose(coordenadas.copy())\n",
    "\n",
    "# Agregar dos nuevos pares de coordenadas\n",
    "nuevas_coordenadas = np.array([[10.8, 3.0],\n",
    "                               [35.8, 12.0]])\n",
    "\n",
    "coordenadas_t = np.append(coordenadas_t, nuevas_coordenadas, axis=1)\n",
    "\n",
    "# Imprimir el resultado\n",
    "print(coordenadas)\n"
   ]
  },
  {
   "attachments": {},
   "cell_type": "markdown",
   "metadata": {},
   "source": [
    "# Parte 2: Exploración y Minería de Datos:"
   ]
  },
  {
   "attachments": {},
   "cell_type": "markdown",
   "metadata": {},
   "source": [
    "Con el dataset nucleospoblacion.csv adjunto al laboratorio,\n",
    "luego responda las siguientes preguntas usando pandas y\n",
    "matplotlib."
   ]
  },
  {
   "cell_type": "code",
   "execution_count": 32,
   "metadata": {},
   "outputs": [
    {
     "data": {
      "text/html": [
       "<div>\n",
       "<style scoped>\n",
       "    .dataframe tbody tr th:only-of-type {\n",
       "        vertical-align: middle;\n",
       "    }\n",
       "\n",
       "    .dataframe tbody tr th {\n",
       "        vertical-align: top;\n",
       "    }\n",
       "\n",
       "    .dataframe thead th {\n",
       "        text-align: right;\n",
       "    }\n",
       "</style>\n",
       "<table border=\"1\" class=\"dataframe\">\n",
       "  <thead>\n",
       "    <tr style=\"text-align: right;\">\n",
       "      <th></th>\n",
       "      <th>FID</th>\n",
       "      <th>OBJECTID</th>\n",
       "      <th>Texto</th>\n",
       "      <th>Poblacion</th>\n",
       "      <th>CodMun</th>\n",
       "      <th>Municipio</th>\n",
       "      <th>CodProvin</th>\n",
       "      <th>Provincia</th>\n",
       "      <th>X</th>\n",
       "      <th>Y</th>\n",
       "    </tr>\n",
       "  </thead>\n",
       "  <tbody>\n",
       "    <tr>\n",
       "      <th>0</th>\n",
       "      <td>0</td>\n",
       "      <td>1</td>\n",
       "      <td>Agüimes</td>\n",
       "      <td>29431.0</td>\n",
       "      <td>35002</td>\n",
       "      <td>Agüimes</td>\n",
       "      <td>35</td>\n",
       "      <td>Las Palmas</td>\n",
       "      <td>-15.446012</td>\n",
       "      <td>27.900542</td>\n",
       "    </tr>\n",
       "    <tr>\n",
       "      <th>1</th>\n",
       "      <td>1</td>\n",
       "      <td>2</td>\n",
       "      <td>Antigua</td>\n",
       "      <td>10458.0</td>\n",
       "      <td>35003</td>\n",
       "      <td>Antigua</td>\n",
       "      <td>35</td>\n",
       "      <td>Las Palmas</td>\n",
       "      <td>-14.013301</td>\n",
       "      <td>28.418966</td>\n",
       "    </tr>\n",
       "    <tr>\n",
       "      <th>2</th>\n",
       "      <td>2</td>\n",
       "      <td>3</td>\n",
       "      <td>Arrecife</td>\n",
       "      <td>58156.0</td>\n",
       "      <td>35004</td>\n",
       "      <td>Arrecife</td>\n",
       "      <td>35</td>\n",
       "      <td>Las Palmas</td>\n",
       "      <td>-13.551451</td>\n",
       "      <td>28.960649</td>\n",
       "    </tr>\n",
       "    <tr>\n",
       "      <th>3</th>\n",
       "      <td>3</td>\n",
       "      <td>4</td>\n",
       "      <td>Arucas</td>\n",
       "      <td>36745.0</td>\n",
       "      <td>35006</td>\n",
       "      <td>Arucas</td>\n",
       "      <td>35</td>\n",
       "      <td>Las Palmas</td>\n",
       "      <td>-15.521512</td>\n",
       "      <td>28.117496</td>\n",
       "    </tr>\n",
       "    <tr>\n",
       "      <th>4</th>\n",
       "      <td>4</td>\n",
       "      <td>5</td>\n",
       "      <td>Gáldar</td>\n",
       "      <td>24473.0</td>\n",
       "      <td>35009</td>\n",
       "      <td>Gáldar</td>\n",
       "      <td>35</td>\n",
       "      <td>Las Palmas</td>\n",
       "      <td>-15.654111</td>\n",
       "      <td>28.143873</td>\n",
       "    </tr>\n",
       "    <tr>\n",
       "      <th>...</th>\n",
       "      <td>...</td>\n",
       "      <td>...</td>\n",
       "      <td>...</td>\n",
       "      <td>...</td>\n",
       "      <td>...</td>\n",
       "      <td>...</td>\n",
       "      <td>...</td>\n",
       "      <td>...</td>\n",
       "      <td>...</td>\n",
       "      <td>...</td>\n",
       "    </tr>\n",
       "    <tr>\n",
       "      <th>847</th>\n",
       "      <td>847</td>\n",
       "      <td>848</td>\n",
       "      <td>Infante Juan Manuel</td>\n",
       "      <td>14192.0</td>\n",
       "      <td>30030</td>\n",
       "      <td>Murcia</td>\n",
       "      <td>30</td>\n",
       "      <td>Murcia</td>\n",
       "      <td>-1.124304</td>\n",
       "      <td>37.979033</td>\n",
       "    </tr>\n",
       "    <tr>\n",
       "      <th>848</th>\n",
       "      <td>848</td>\n",
       "      <td>849</td>\n",
       "      <td>Santa Maria de Gracia</td>\n",
       "      <td>13349.0</td>\n",
       "      <td>30030</td>\n",
       "      <td>Murcia</td>\n",
       "      <td>30</td>\n",
       "      <td>Murcia</td>\n",
       "      <td>-1.202069</td>\n",
       "      <td>37.984024</td>\n",
       "    </tr>\n",
       "    <tr>\n",
       "      <th>849</th>\n",
       "      <td>849</td>\n",
       "      <td>850</td>\n",
       "      <td>Vista Alegre</td>\n",
       "      <td>15208.0</td>\n",
       "      <td>30030</td>\n",
       "      <td>Murcia</td>\n",
       "      <td>30</td>\n",
       "      <td>Murcia</td>\n",
       "      <td>-1.130564</td>\n",
       "      <td>37.995715</td>\n",
       "    </tr>\n",
       "    <tr>\n",
       "      <th>850</th>\n",
       "      <td>850</td>\n",
       "      <td>851</td>\n",
       "      <td>Poligono Sta M de Benquerencia</td>\n",
       "      <td>19177.0</td>\n",
       "      <td>45168</td>\n",
       "      <td>Toledo</td>\n",
       "      <td>45</td>\n",
       "      <td>Toledo</td>\n",
       "      <td>-3.948364</td>\n",
       "      <td>39.866699</td>\n",
       "    </tr>\n",
       "    <tr>\n",
       "      <th>851</th>\n",
       "      <td>851</td>\n",
       "      <td>852</td>\n",
       "      <td>Grao</td>\n",
       "      <td>16367.0</td>\n",
       "      <td>12040</td>\n",
       "      <td>Castellón de la Plana/Castelló de la Plana</td>\n",
       "      <td>12</td>\n",
       "      <td>Castelló/Castellón</td>\n",
       "      <td>0.012911</td>\n",
       "      <td>39.973568</td>\n",
       "    </tr>\n",
       "  </tbody>\n",
       "</table>\n",
       "<p>852 rows × 10 columns</p>\n",
       "</div>"
      ],
      "text/plain": [
       "     FID  OBJECTID                           Texto  Poblacion  CodMun  \\\n",
       "0      0         1                         Agüimes    29431.0   35002   \n",
       "1      1         2                         Antigua    10458.0   35003   \n",
       "2      2         3                        Arrecife    58156.0   35004   \n",
       "3      3         4                          Arucas    36745.0   35006   \n",
       "4      4         5                          Gáldar    24473.0   35009   \n",
       "..   ...       ...                             ...        ...     ...   \n",
       "847  847       848             Infante Juan Manuel    14192.0   30030   \n",
       "848  848       849           Santa Maria de Gracia    13349.0   30030   \n",
       "849  849       850                    Vista Alegre    15208.0   30030   \n",
       "850  850       851  Poligono Sta M de Benquerencia    19177.0   45168   \n",
       "851  851       852                            Grao    16367.0   12040   \n",
       "\n",
       "                                      Municipio  CodProvin  \\\n",
       "0                                       Agüimes         35   \n",
       "1                                       Antigua         35   \n",
       "2                                      Arrecife         35   \n",
       "3                                        Arucas         35   \n",
       "4                                        Gáldar         35   \n",
       "..                                          ...        ...   \n",
       "847                                      Murcia         30   \n",
       "848                                      Murcia         30   \n",
       "849                                      Murcia         30   \n",
       "850                                      Toledo         45   \n",
       "851  Castellón de la Plana/Castelló de la Plana         12   \n",
       "\n",
       "              Provincia          X          Y  \n",
       "0            Las Palmas -15.446012  27.900542  \n",
       "1            Las Palmas -14.013301  28.418966  \n",
       "2            Las Palmas -13.551451  28.960649  \n",
       "3            Las Palmas -15.521512  28.117496  \n",
       "4            Las Palmas -15.654111  28.143873  \n",
       "..                  ...        ...        ...  \n",
       "847              Murcia  -1.124304  37.979033  \n",
       "848              Murcia  -1.202069  37.984024  \n",
       "849              Murcia  -1.130564  37.995715  \n",
       "850              Toledo  -3.948364  39.866699  \n",
       "851  Castelló/Castellón   0.012911  39.973568  \n",
       "\n",
       "[852 rows x 10 columns]"
      ]
     },
     "metadata": {},
     "output_type": "display_data"
    },
    {
     "data": {
      "text/html": [
       "<div>\n",
       "<style scoped>\n",
       "    .dataframe tbody tr th:only-of-type {\n",
       "        vertical-align: middle;\n",
       "    }\n",
       "\n",
       "    .dataframe tbody tr th {\n",
       "        vertical-align: top;\n",
       "    }\n",
       "\n",
       "    .dataframe thead th {\n",
       "        text-align: right;\n",
       "    }\n",
       "</style>\n",
       "<table border=\"1\" class=\"dataframe\">\n",
       "  <thead>\n",
       "    <tr style=\"text-align: right;\">\n",
       "      <th></th>\n",
       "      <th>FID</th>\n",
       "      <th>OBJECTID</th>\n",
       "      <th>Poblacion</th>\n",
       "      <th>CodMun</th>\n",
       "      <th>CodProvin</th>\n",
       "      <th>X</th>\n",
       "      <th>Y</th>\n",
       "    </tr>\n",
       "  </thead>\n",
       "  <tbody>\n",
       "    <tr>\n",
       "      <th>count</th>\n",
       "      <td>852.00000</td>\n",
       "      <td>852.00000</td>\n",
       "      <td>8.520000e+02</td>\n",
       "      <td>852.000000</td>\n",
       "      <td>852.000000</td>\n",
       "      <td>852.000000</td>\n",
       "      <td>852.000000</td>\n",
       "    </tr>\n",
       "    <tr>\n",
       "      <th>mean</th>\n",
       "      <td>425.50000</td>\n",
       "      <td>426.50000</td>\n",
       "      <td>4.571086e+04</td>\n",
       "      <td>25064.747653</td>\n",
       "      <td>24.974178</td>\n",
       "      <td>-3.449561</td>\n",
       "      <td>39.168865</td>\n",
       "    </tr>\n",
       "    <tr>\n",
       "      <th>std</th>\n",
       "      <td>246.09551</td>\n",
       "      <td>246.09551</td>\n",
       "      <td>1.405981e+05</td>\n",
       "      <td>14288.756872</td>\n",
       "      <td>14.289414</td>\n",
       "      <td>4.602387</td>\n",
       "      <td>3.682011</td>\n",
       "    </tr>\n",
       "    <tr>\n",
       "      <th>min</th>\n",
       "      <td>0.00000</td>\n",
       "      <td>1.00000</td>\n",
       "      <td>1.003700e+04</td>\n",
       "      <td>1002.000000</td>\n",
       "      <td>1.000000</td>\n",
       "      <td>-17.914361</td>\n",
       "      <td>27.770340</td>\n",
       "    </tr>\n",
       "    <tr>\n",
       "      <th>25%</th>\n",
       "      <td>212.75000</td>\n",
       "      <td>213.75000</td>\n",
       "      <td>1.368975e+04</td>\n",
       "      <td>11027.000000</td>\n",
       "      <td>11.000000</td>\n",
       "      <td>-5.692163</td>\n",
       "      <td>37.591777</td>\n",
       "    </tr>\n",
       "    <tr>\n",
       "      <th>50%</th>\n",
       "      <td>425.50000</td>\n",
       "      <td>426.50000</td>\n",
       "      <td>1.986500e+04</td>\n",
       "      <td>28059.500000</td>\n",
       "      <td>28.000000</td>\n",
       "      <td>-3.253442</td>\n",
       "      <td>39.593034</td>\n",
       "    </tr>\n",
       "    <tr>\n",
       "      <th>75%</th>\n",
       "      <td>638.25000</td>\n",
       "      <td>639.25000</td>\n",
       "      <td>3.495075e+04</td>\n",
       "      <td>36056.250000</td>\n",
       "      <td>36.000000</td>\n",
       "      <td>-0.418458</td>\n",
       "      <td>41.630062</td>\n",
       "    </tr>\n",
       "    <tr>\n",
       "      <th>max</th>\n",
       "      <td>851.00000</td>\n",
       "      <td>852.00000</td>\n",
       "      <td>3.273049e+06</td>\n",
       "      <td>52001.000000</td>\n",
       "      <td>52.000000</td>\n",
       "      <td>4.265466</td>\n",
       "      <td>43.625578</td>\n",
       "    </tr>\n",
       "  </tbody>\n",
       "</table>\n",
       "</div>"
      ],
      "text/plain": [
       "             FID   OBJECTID     Poblacion        CodMun   CodProvin  \\\n",
       "count  852.00000  852.00000  8.520000e+02    852.000000  852.000000   \n",
       "mean   425.50000  426.50000  4.571086e+04  25064.747653   24.974178   \n",
       "std    246.09551  246.09551  1.405981e+05  14288.756872   14.289414   \n",
       "min      0.00000    1.00000  1.003700e+04   1002.000000    1.000000   \n",
       "25%    212.75000  213.75000  1.368975e+04  11027.000000   11.000000   \n",
       "50%    425.50000  426.50000  1.986500e+04  28059.500000   28.000000   \n",
       "75%    638.25000  639.25000  3.495075e+04  36056.250000   36.000000   \n",
       "max    851.00000  852.00000  3.273049e+06  52001.000000   52.000000   \n",
       "\n",
       "                X           Y  \n",
       "count  852.000000  852.000000  \n",
       "mean    -3.449561   39.168865  \n",
       "std      4.602387    3.682011  \n",
       "min    -17.914361   27.770340  \n",
       "25%     -5.692163   37.591777  \n",
       "50%     -3.253442   39.593034  \n",
       "75%     -0.418458   41.630062  \n",
       "max      4.265466   43.625578  "
      ]
     },
     "metadata": {},
     "output_type": "display_data"
    },
    {
     "name": "stdout",
     "output_type": "stream",
     "text": [
      "<class 'pandas.core.frame.DataFrame'>\n",
      "RangeIndex: 852 entries, 0 to 851\n",
      "Data columns (total 10 columns):\n",
      " #   Column     Non-Null Count  Dtype  \n",
      "---  ------     --------------  -----  \n",
      " 0   FID        852 non-null    int64  \n",
      " 1   OBJECTID   852 non-null    int64  \n",
      " 2   Texto      852 non-null    object \n",
      " 3   Poblacion  852 non-null    float64\n",
      " 4   CodMun     852 non-null    int64  \n",
      " 5   Municipio  852 non-null    object \n",
      " 6   CodProvin  852 non-null    int64  \n",
      " 7   Provincia  852 non-null    object \n",
      " 8   X          852 non-null    float64\n",
      " 9   Y          852 non-null    float64\n",
      "dtypes: float64(3), int64(4), object(3)\n",
      "memory usage: 66.7+ KB\n"
     ]
    },
    {
     "data": {
      "text/plain": [
       "None"
      ]
     },
     "metadata": {},
     "output_type": "display_data"
    },
    {
     "data": {
      "text/plain": [
       "Index(['FID', 'OBJECTID', 'Texto', 'Poblacion', 'CodMun', 'Municipio',\n",
       "       'CodProvin', 'Provincia', 'X', 'Y'],\n",
       "      dtype='object')"
      ]
     },
     "metadata": {},
     "output_type": "display_data"
    }
   ],
   "source": [
    "import pandas as pd\n",
    "\n",
    "datos = pd.read_csv('./Lab_3/NucleosPoblacion.csv')\n",
    "display(datos)\n",
    "display(datos.describe())\n",
    "display(datos.info())\n",
    "display(datos.columns)\n"
   ]
  },
  {
   "attachments": {},
   "cell_type": "markdown",
   "metadata": {},
   "source": [
    "1) ¿Cuántos Municipios tienen más de 100000\n",
    "habitantes?."
   ]
  },
  {
   "cell_type": "code",
   "execution_count": 33,
   "metadata": {},
   "outputs": [
    {
     "name": "stdout",
     "output_type": "stream",
     "text": [
      "El número de municipios con más de 100000 habitantes es: 62\n"
     ]
    }
   ],
   "source": [
    "municipios_mas_100k = datos[datos['Poblacion'] > 100000]['Municipio'].nunique()\n",
    "print(\"El número de municipios con más de 100000 habitantes es:\", municipios_mas_100k)\n"
   ]
  },
  {
   "attachments": {},
   "cell_type": "markdown",
   "metadata": {},
   "source": [
    "2) Realice una gráfica de barras sobre la polbación de cada\n",
    "<p>ciudad, ordenela de menor a mayo y responda:\n",
    "<p>a. ¿Cuál es la segunda ciudad más poblada?\n",
    "<p>b. ¿Qué posición ocupa Granada en el ranking de\n",
    "las ciudades más pobladas?"
   ]
  },
  {
   "cell_type": "code",
   "execution_count": 38,
   "metadata": {},
   "outputs": [
    {
     "data": {
      "image/png": "[encoded data removed]",
      "text/plain": [
       "<Figure size 640x480 with 1 Axes>"
      ]
     },
     "metadata": {},
     "output_type": "display_data"
    }
   ],
   "source": [
    "import matplotlib.pyplot as plt\n",
    "\n",
    "# Ordenar los datos por población de menor a mayor\n",
    "datos_ordenados = datos.sort_values(by='Poblacion')\n",
    "\n",
    "# Crear la gráfica de barras\n",
    "plt.bar(datos_ordenados['Municipio'], datos_ordenados['Poblacion'])\n",
    "\n",
    "# Rotar las etiquetas del eje x para que no se solapen\n",
    "plt.xticks(rotation=90)\n",
    "\n",
    "# Mostrar la gráfica\n",
    "plt.show()\n"
   ]
  },
  {
   "cell_type": "code",
   "execution_count": 35,
   "metadata": {},
   "outputs": [
    {
     "name": "stdout",
     "output_type": "stream",
     "text": [
      "La segunda ciudad más poblada es: Barcelona\n"
     ]
    }
   ],
   "source": [
    "segunda_ciudad = datos.sort_values(by='Poblacion', ascending=False).iloc[1]['Municipio']\n",
    "print(\"La segunda ciudad más poblada es:\", segunda_ciudad)\n"
   ]
  },
  {
   "cell_type": "code",
   "execution_count": 36,
   "metadata": {},
   "outputs": [
    {
     "name": "stdout",
     "output_type": "stream",
     "text": [
      "Granada ocupa la posición número 273 en el ranking de ciudades más pobladas.\n"
     ]
    }
   ],
   "source": [
    "# Encontrar la posición de Granada en la lista ordenada\n",
    "posicion_granada = datos_ordenados[datos_ordenados['Municipio'] == 'Granada'].index[0] + 1\n",
    "\n",
    "# Mostrar la posición de Granada\n",
    "print(\"Granada ocupa la posición número\", posicion_granada, \"en el ranking de ciudades más pobladas.\")\n"
   ]
  },
  {
   "attachments": {},
   "cell_type": "markdown",
   "metadata": {},
   "source": [
    "3) ¿Cuántos municipios de Extremadura tienen más de 5000\n",
    "habitantes?.\n",
    "\n"
   ]
  },
  {
   "cell_type": "code",
   "execution_count": 40,
   "metadata": {},
   "outputs": [
    {
     "name": "stdout",
     "output_type": "stream",
     "text": [
      "El número de municipios de Extremadura con más de 5000 habitantes es: 14\n"
     ]
    }
   ],
   "source": [
    "municipios_extremadura_5000 = datos[(datos['Poblacion'] > 5000) & ((datos['Provincia'] == 'Cáceres') | (datos['Provincia'] == 'Badajoz'))]['Municipio'].nunique()\n",
    "print(\"El número de municipios de Extremadura con más de 5000 habitantes es:\", municipios_extremadura_5000)\n"
   ]
  },
  {
   "attachments": {},
   "cell_type": "markdown",
   "metadata": {},
   "source": [
    "4) ¿Cuál es el municipio situado más al Norte? (Usar el\n",
    "valor de la coordenada \"Y\" que representa la latitud en\n",
    "grados). Proporcione también la provincia a la que\n",
    "pertenece y su población."
   ]
  },
  {
   "cell_type": "code",
   "execution_count": 41,
   "metadata": {},
   "outputs": [
    {
     "name": "stdout",
     "output_type": "stream",
     "text": [
      "El municipio más al norte es: Viveiro\n",
      "Pertenece a la provincia de Lugo\n",
      "Tiene una población de 16211.0 habitantes\n"
     ]
    }
   ],
   "source": [
    "municipio_norte = datos.sort_values(by='Y', ascending=False).iloc[0]\n",
    "print(\"El municipio más al norte es:\", municipio_norte['Municipio'])\n",
    "print(\"Pertenece a la provincia de\", municipio_norte['Provincia'])\n",
    "print(\"Tiene una población de\", municipio_norte['Poblacion'], \"habitantes\")\n"
   ]
  },
  {
   "attachments": {},
   "cell_type": "markdown",
   "metadata": {},
   "source": [
    "5) Obtenga la media, mediana, desviación estándar, valor\n",
    "máximo y valor mínimo de la población de los municipios\n",
    "de la provincia de Granada."
   ]
  },
  {
   "cell_type": "code",
   "execution_count": 42,
   "metadata": {},
   "outputs": [
    {
     "name": "stdout",
     "output_type": "stream",
     "text": [
      "Media de población en la provincia de Granada: 30217.85\n",
      "Mediana de población en la provincia de Granada: 17526.0\n",
      "Desviación estándar de población en la provincia de Granada: 50355.49171459276\n",
      "Valor máximo de población en la provincia de Granada: 239154.0\n",
      "Valor mínimo de población en la provincia de Granada: 10386.0\n"
     ]
    }
   ],
   "source": [
    "# Seleccionar filas correspondientes a la provincia de Granada\n",
    "municipios_granada = datos[datos['Provincia'] == 'Granada']\n",
    "\n",
    "# Calcular los valores estadísticos\n",
    "media = municipios_granada['Poblacion'].mean()\n",
    "mediana = municipios_granada['Poblacion'].median()\n",
    "desviacion_estandar = municipios_granada['Poblacion'].std()\n",
    "valor_maximo = municipios_granada['Poblacion'].max()\n",
    "valor_minimo = municipios_granada['Poblacion'].min()\n",
    "\n",
    "# Imprimir los resultados en pantalla\n",
    "print(\"Media de población en la provincia de Granada:\", media)\n",
    "print(\"Mediana de población en la provincia de Granada:\", mediana)\n",
    "print(\"Desviación estándar de población en la provincia de Granada:\", desviacion_estandar)\n",
    "print(\"Valor máximo de población en la provincia de Granada:\", valor_maximo)\n",
    "print(\"Valor mínimo de población en la provincia de Granada:\", valor_minimo)\n"
   ]
  }
 ],
 "metadata": {
  "kernelspec": {
   "display_name": ".lab1",
   "language": "python",
   "name": "python3"
  },
  "language_info": {
   "codemirror_mode": {
    "name": "ipython",
    "version": 3
   },
   "file_extension": ".py",
   "mimetype": "text/x-python",
   "name": "python",
   "nbconvert_exporter": "python",
   "pygments_lexer": "ipython3",
   "version": "3.10.4"
  },
  "orig_nbformat": 4,
  "vscode": {
   "interpreter": {
    "hash": "7adbce2b6e7e5f133ffdfc81941aca518029a9627b82a13940b2da088a335493"
   }
  }
 },
 "nbformat": 4,
 "nbformat_minor": 2
}
