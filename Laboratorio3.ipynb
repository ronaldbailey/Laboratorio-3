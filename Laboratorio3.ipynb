{
 "cells": [
  {
   "cell_type": "code",
   "execution_count": 1,
   "metadata": {},
   "outputs": [
    {
     "name": "stderr",
     "output_type": "stream",
     "text": [
      "Cloning into 'Laboratorio-3'...\n"
     ]
    }
   ],
   "source": [
    "! git clone https://github.com/ronaldbailey/Laboratorio-3.git"
   ]
  },
  {
   "cell_type": "code",
   "execution_count": 8,
   "metadata": {},
   "outputs": [
    {
     "name": "stderr",
     "output_type": "stream",
     "text": [
      "warning: LF will be replaced by CRLF in Laboratorio3.ipynb.\n",
      "The file will have its original line endings in your working directory\n",
      "warning: LF will be replaced by CRLF in Lab_3/NucleosPoblacion.csv.\n",
      "The file will have its original line endings in your working directory\n"
     ]
    },
    {
     "name": "stdout",
     "output_type": "stream",
     "text": [
      "[main 3371f8c] Segunda parte array de pares\n",
      " 7 files changed, 916 insertions(+)\n",
      " create mode 100644 Lab_3/.DS_Store\n",
      " create mode 100644 Lab_3/Lab_3_Numpy_Pandas_Matplotlib.pdf\n",
      " create mode 100644 Lab_3/NucleosPoblacion.csv\n",
      " create mode 100644 __MACOSX/Lab_3/._.DS_Store\n",
      " create mode 100644 __MACOSX/Lab_3/._Lab_3_Numpy_Pandas_Matplotlib.pdf\n",
      " create mode 100644 __MACOSX/Lab_3/._NucleosPoblacion.csv\n"
     ]
    },
    {
     "name": "stderr",
     "output_type": "stream",
     "text": [
      "To https://github.com/ronaldbailey/Laboratorio-3.git\n",
      "   463eec9..3371f8c  main -> main\n"
     ]
    }
   ],
   "source": [
    "! git add .\n",
    "! git commit -m \"3ra parte\"\n",
    "! git push"
   ]
  },
  {
   "attachments": {},
   "cell_type": "markdown",
   "metadata": {},
   "source": [
    "# Laboratorio: Análisis de Datos con Python\n"
   ]
  },
  {
   "attachments": {},
   "cell_type": "markdown",
   "metadata": {},
   "source": [
    "Para este laboratorio deberá entregar el link de GitHub a un\n",
    "Notebook de Jupyter con todo el código y comentarios que\n",
    "considere necesario para dar solución a lo planteado, copie la\n",
    "pregunta en una celda de Markdown y de solución a la misma con\n",
    "las celdas de código de Python."
   ]
  },
  {
   "attachments": {},
   "cell_type": "markdown",
   "metadata": {},
   "source": [
    "- Parte 1: Numpy:\n",
    "<p>\n",
    "Para los ejercicios siguiente genere el código que considere\n",
    "<p>\n",
    "para resolver el problema que se le plantea."
   ]
  },
  {
   "attachments": {},
   "cell_type": "markdown",
   "metadata": {},
   "source": [
    "1) ¿Cuál es el tamaño en bytes de un array de 1000\n",
    "elementos de tipo booleano?"
   ]
  },
  {
   "cell_type": "code",
   "execution_count": 4,
   "metadata": {},
   "outputs": [
    {
     "name": "stdout",
     "output_type": "stream",
     "text": [
      "El array ocupa 1000 bytes.\n"
     ]
    }
   ],
   "source": [
    "import numpy as np\n",
    "\n",
    "# Crear un array de 1000 elementos booleanos con valores aleatorios\n",
    "arr = np.random.choice([True, False], size=1000)\n",
    "\n",
    "# Mostrar el array\n",
    "#print(arr)\n",
    "\n",
    "# Obtener el tamaño en bytes del array\n",
    "tamaño = arr.nbytes\n",
    "\n",
    "# Mostrar el tamaño en bytes del array\n",
    "print(\"El array ocupa\", tamaño, \"bytes.\")"
   ]
  },
  {
   "attachments": {},
   "cell_type": "markdown",
   "metadata": {},
   "source": [
    "2) Cree un array cuyos elementos sean los enteros pares en\n",
    "[1,100] y en orden decreciente. Muestre los 10 últimos\n",
    "por pantalla."
   ]
  },
  {
   "cell_type": "code",
   "execution_count": 7,
   "metadata": {},
   "outputs": [
    {
     "name": "stdout",
     "output_type": "stream",
     "text": [
      "[20 18 16 14 12 10  8  6  4  2]\n"
     ]
    }
   ],
   "source": [
    "import numpy as np\n",
    "\n",
    "# Crear un array con los enteros pares del 1 al 100 en orden decreciente\n",
    "arr = np.arange(100, 0, -2)\n",
    "\n",
    "# Mostrar los últimos 10 elementos del array\n",
    "print(arr[-10:])"
   ]
  },
  {
   "attachments": {},
   "cell_type": "markdown",
   "metadata": {},
   "source": [
    "3) Dado el array\n",
    "<p>2 4 5 6\n",
    "<p>0 3 7 4\n",
    "<p>8 8 5 2\n",
    "<p>1 5 6 1\n",
    "<p>Seleccione con una instrucción el subarray de elementos\n",
    "<p>0 3 7 4\n",
    "<p>Después, seleccione el subarray de elementos\n",
    "<p>2 5\n",
    "<p>8 5"
   ]
  },
  {
   "cell_type": "code",
   "execution_count": 22,
   "metadata": {},
   "outputs": [
    {
     "name": "stdout",
     "output_type": "stream",
     "text": [
      "[0 3 7 4]\n",
      "[2 5]\n",
      "[8 5]\n"
     ]
    }
   ],
   "source": [
    "import numpy as np\n",
    "\n",
    "# Crear el array original\n",
    "arr = np.array([[2, 4, 5, 6],\n",
    "                [0, 3, 7, 4],\n",
    "                [8, 8, 5, 2],\n",
    "                [1, 5, 6, 1]])\n",
    "\n",
    "# Imprimir el subarray resultante\n",
    "print(arr[1])\n",
    "# Seleccionar el subarray de elementos 2 5 8 5\n",
    "\n",
    "# Imprimir el subarray resultante\n",
    "print(arr[[0, 2], [0, 2]])\n",
    "print(arr[[2, 2], [0, 2]])"
   ]
  }
 ],
 "metadata": {
  "kernelspec": {
   "display_name": ".lab1",
   "language": "python",
   "name": "python3"
  },
  "language_info": {
   "codemirror_mode": {
    "name": "ipython",
    "version": 3
   },
   "file_extension": ".py",
   "mimetype": "text/x-python",
   "name": "python",
   "nbconvert_exporter": "python",
   "pygments_lexer": "ipython3",
   "version": "3.10.4"
  },
  "orig_nbformat": 4,
  "vscode": {
   "interpreter": {
    "hash": "7adbce2b6e7e5f133ffdfc81941aca518029a9627b82a13940b2da088a335493"
   }
  }
 },
 "nbformat": 4,
 "nbformat_minor": 2
}
