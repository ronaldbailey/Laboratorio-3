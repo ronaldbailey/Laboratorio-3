{
 "cells": [
  {
   "cell_type": "code",
   "execution_count": 1,
   "metadata": {},
   "outputs": [
    {
     "name": "stderr",
     "output_type": "stream",
     "text": [
      "Cloning into 'Laboratorio-3'...\n"
     ]
    }
   ],
   "source": [
    "! git clone https://github.com/ronaldbailey/Laboratorio-3.git"
   ]
  },
  {
   "attachments": {},
   "cell_type": "markdown",
   "metadata": {},
   "source": [
    "# Laboratorio: Análisis de Datos con Python\n"
   ]
  },
  {
   "attachments": {},
   "cell_type": "markdown",
   "metadata": {},
   "source": [
    "Para este laboratorio deberá entregar el link de GitHub a un\n",
    "Notebook de Jupyter con todo el código y comentarios que\n",
    "considere necesario para dar solución a lo planteado, copie la\n",
    "pregunta en una celda de Markdown y de solución a la misma con\n",
    "las celdas de código de Python."
   ]
  },
  {
   "attachments": {},
   "cell_type": "markdown",
   "metadata": {},
   "source": [
    "- Parte 1: Numpy:\n",
    "<p>\n",
    "Para los ejercicios siguiente genere el código que considere\n",
    "<p>\n",
    "para resolver el problema que se le plantea."
   ]
  },
  {
   "attachments": {},
   "cell_type": "markdown",
   "metadata": {},
   "source": [
    "1) ¿Cuál es el tamaño en bytes de un array de 1000\n",
    "elementos de tipo booleano?"
   ]
  },
  {
   "cell_type": "code",
   "execution_count": 4,
   "metadata": {},
   "outputs": [
    {
     "name": "stdout",
     "output_type": "stream",
     "text": [
      "El array ocupa 1000 bytes.\n"
     ]
    }
   ],
   "source": [
    "import numpy as np\n",
    "\n",
    "# Crear un array de 1000 elementos booleanos con valores aleatorios\n",
    "arr = np.random.choice([True, False], size=1000)\n",
    "\n",
    "# Mostrar el array\n",
    "#print(arr)\n",
    "\n",
    "# Obtener el tamaño en bytes del array\n",
    "tamaño = arr.nbytes\n",
    "\n",
    "# Mostrar el tamaño en bytes del array\n",
    "print(\"El array ocupa\", tamaño, \"bytes.\")"
   ]
  }
 ],
 "metadata": {
  "kernelspec": {
   "display_name": ".lab1",
   "language": "python",
   "name": "python3"
  },
  "language_info": {
   "codemirror_mode": {
    "name": "ipython",
    "version": 3
   },
   "file_extension": ".py",
   "mimetype": "text/x-python",
   "name": "python",
   "nbconvert_exporter": "python",
   "pygments_lexer": "ipython3",
   "version": "3.10.4"
  },
  "orig_nbformat": 4,
  "vscode": {
   "interpreter": {
    "hash": "7adbce2b6e7e5f133ffdfc81941aca518029a9627b82a13940b2da088a335493"
   }
  }
 },
 "nbformat": 4,
 "nbformat_minor": 2
}
