{
 "cells": [
  {
   "cell_type": "code",
   "execution_count": 1,
   "metadata": {},
   "outputs": [
    {
     "name": "stderr",
     "output_type": "stream",
     "text": [
      "Cloning into 'Laboratorio-3'...\n"
     ]
    }
   ],
   "source": [
    "! git clone https://github.com/ronaldbailey/Laboratorio-3.git"
   ]
  },
  {
   "cell_type": "code",
   "execution_count": 25,
   "metadata": {},
   "outputs": [
    {
     "name": "stderr",
     "output_type": "stream",
     "text": [
      "warning: LF will be replaced by CRLF in Laboratorio3.ipynb.\n",
      "The file will have its original line endings in your working directory\n"
     ]
    },
    {
     "name": "stdout",
     "output_type": "stream",
     "text": [
      "[main c5763c2] 4ta parte\n",
      " 1 file changed, 44 insertions(+), 12 deletions(-)\n"
     ]
    },
    {
     "name": "stderr",
     "output_type": "stream",
     "text": [
      "To https://github.com/ronaldbailey/Laboratorio-3.git\n",
      "   096abab..c5763c2  main -> main\n"
     ]
    }
   ],
   "source": [
    "! git add .\n",
    "! git commit -m \"4ta parte\"\n",
    "! git push"
   ]
  },
  {
   "attachments": {},
   "cell_type": "markdown",
   "metadata": {},
   "source": [
    "# Laboratorio: Análisis de Datos con Python\n"
   ]
  },
  {
   "attachments": {},
   "cell_type": "markdown",
   "metadata": {},
   "source": [
    "Para este laboratorio deberá entregar el link de GitHub a un\n",
    "Notebook de Jupyter con todo el código y comentarios que\n",
    "considere necesario para dar solución a lo planteado, copie la\n",
    "pregunta en una celda de Markdown y de solución a la misma con\n",
    "las celdas de código de Python."
   ]
  },
  {
   "attachments": {},
   "cell_type": "markdown",
   "metadata": {},
   "source": [
    "- Parte 1: Numpy:\n",
    "<p>\n",
    "Para los ejercicios siguiente genere el código que considere\n",
    "<p>\n",
    "para resolver el problema que se le plantea."
   ]
  },
  {
   "attachments": {},
   "cell_type": "markdown",
   "metadata": {},
   "source": [
    "1) ¿Cuál es el tamaño en bytes de un array de 1000\n",
    "elementos de tipo booleano?"
   ]
  },
  {
   "cell_type": "code",
   "execution_count": 4,
   "metadata": {},
   "outputs": [
    {
     "name": "stdout",
     "output_type": "stream",
     "text": [
      "El array ocupa 1000 bytes.\n"
     ]
    }
   ],
   "source": [
    "import numpy as np\n",
    "\n",
    "# Crear un array de 1000 elementos booleanos con valores aleatorios\n",
    "arr = np.random.choice([True, False], size=1000)\n",
    "\n",
    "# Mostrar el array\n",
    "#print(arr)\n",
    "\n",
    "# Obtener el tamaño en bytes del array\n",
    "tamaño = arr.nbytes\n",
    "\n",
    "# Mostrar el tamaño en bytes del array\n",
    "print(\"El array ocupa\", tamaño, \"bytes.\")"
   ]
  },
  {
   "attachments": {},
   "cell_type": "markdown",
   "metadata": {},
   "source": [
    "2) Cree un array cuyos elementos sean los enteros pares en\n",
    "[1,100] y en orden decreciente. Muestre los 10 últimos\n",
    "por pantalla."
   ]
  },
  {
   "cell_type": "code",
   "execution_count": 7,
   "metadata": {},
   "outputs": [
    {
     "name": "stdout",
     "output_type": "stream",
     "text": [
      "[20 18 16 14 12 10  8  6  4  2]\n"
     ]
    }
   ],
   "source": [
    "import numpy as np\n",
    "\n",
    "# Crear un array con los enteros pares del 1 al 100 en orden decreciente\n",
    "arr = np.arange(100, 0, -2)\n",
    "\n",
    "# Mostrar los últimos 10 elementos del array\n",
    "print(arr[-10:])"
   ]
  },
  {
   "attachments": {},
   "cell_type": "markdown",
   "metadata": {},
   "source": [
    "3) Dado el array\n",
    "<p>2 4 5 6\n",
    "<p>0 3 7 4\n",
    "<p>8 8 5 2\n",
    "<p>1 5 6 1\n",
    "<p>Seleccione con una instrucción el subarray de elementos\n",
    "<p>0 3 7 4\n",
    "<p>Después, seleccione el subarray de elementos\n",
    "<p>2 5\n",
    "<p>8 5"
   ]
  },
  {
   "cell_type": "code",
   "execution_count": 22,
   "metadata": {},
   "outputs": [
    {
     "name": "stdout",
     "output_type": "stream",
     "text": [
      "[0 3 7 4]\n",
      "[2 5]\n",
      "[8 5]\n"
     ]
    }
   ],
   "source": [
    "import numpy as np\n",
    "\n",
    "# Crear el array original\n",
    "arr = np.array([[2, 4, 5, 6],\n",
    "                [0, 3, 7, 4],\n",
    "                [8, 8, 5, 2],\n",
    "                [1, 5, 6, 1]])\n",
    "\n",
    "# Imprimir el subarray resultante\n",
    "print(arr[1])\n",
    "# Seleccionar el subarray de elementos 2 5 8 5\n",
    "\n",
    "# Imprimir el subarray resultante\n",
    "print(arr[[0, 2], [0, 2]])\n",
    "print(arr[[2, 2], [0, 2]])"
   ]
  },
  {
   "attachments": {},
   "cell_type": "markdown",
   "metadata": {},
   "source": [
    "4) Dados los arrays\n",
    "<p> a = [1, 4, 2, 7] y\n",
    "<p> b = [1, 3, 2, 9],\n",
    "<p>obtenga la media aritmética de la diferencia (a-b)."
   ]
  },
  {
   "cell_type": "code",
   "execution_count": 24,
   "metadata": {},
   "outputs": [
    {
     "name": "stdout",
     "output_type": "stream",
     "text": [
      "-0.25\n"
     ]
    }
   ],
   "source": [
    "import numpy as np\n",
    "\n",
    "a = [1, 4, 2, 7]\n",
    "b = [1, 3, 2, 9]\n",
    "\n",
    "# Calcular la diferencia a-b\n",
    "diferencia = np.subtract(a, b)\n",
    "\n",
    "# Calcular la media aritmética de la diferencia\n",
    "media = np.mean(diferencia)\n",
    "\n",
    "# Imprimir el resultado\n",
    "print(media)\n"
   ]
  },
  {
   "attachments": {},
   "cell_type": "markdown",
   "metadata": {},
   "source": [
    "5) Tengo valores de cordenadas (x, y) en las columnas\n",
    "del array\n",
    "<p>1.33 4.5\n",
    "<p>30.0 10.7\n",
    "<p>70.2 0.5"
   ]
  },
  {
   "cell_type": "code",
   "execution_count": 26,
   "metadata": {},
   "outputs": [
    {
     "name": "stdout",
     "output_type": "stream",
     "text": [
      "(4, 2)\n"
     ]
    }
   ],
   "source": [
    "import numpy as np\n",
    "\n",
    "coordenadas = np.array([[1.33, 4.5],\n",
    "                        [30.0, 10.7],\n",
    "                        [70.2, 0.5]])\n",
    "\n",
    "nuevas_coordenadas = np.array([[37.1, -3.6]])\n",
    "\n",
    "# Agregar las nuevas coordenadas al array existente\n",
    "coordenadas = np.append(coordenadas, nuevas_coordenadas, axis=0)\n",
    "\n",
    "# Imprimir las dimensiones del nuevo array\n",
    "print(coordenadas.shape)\n"
   ]
  },
  {
   "attachments": {},
   "cell_type": "markdown",
   "metadata": {},
   "source": [
    "6) Copie el array del ejercicio anterior.\n",
    "<p> Traspóngalo (.\n",
    "<p>Agregue ahora dos nuevos pares de coordenadas: (10.8,\n",
    "3.0) y (35.8, 12.0)."
   ]
  },
  {
   "cell_type": "code",
   "execution_count": 29,
   "metadata": {},
   "outputs": [
    {
     "name": "stdout",
     "output_type": "stream",
     "text": [
      "[[ 1.33  4.5 ]\n",
      " [30.   10.7 ]\n",
      " [70.2   0.5 ]]\n"
     ]
    }
   ],
   "source": [
    "import numpy as np\n",
    "\n",
    "coordenadas = np.array([[1.33, 4.5],\n",
    "                        [30.0, 10.7],\n",
    "                        [70.2, 0.5]])\n",
    "\n",
    "# Copiar y transponer el array existente\n",
    "coordenadas_t = np.transpose(coordenadas.copy())\n",
    "\n",
    "# Agregar dos nuevos pares de coordenadas\n",
    "nuevas_coordenadas = np.array([[10.8, 3.0],\n",
    "                               [35.8, 12.0]])\n",
    "\n",
    "coordenadas_t = np.append(coordenadas_t, nuevas_coordenadas, axis=1)\n",
    "\n",
    "# Imprimir el resultado\n",
    "print(coordenadas)\n"
   ]
  }
 ],
 "metadata": {
  "kernelspec": {
   "display_name": ".lab1",
   "language": "python",
   "name": "python3"
  },
  "language_info": {
   "codemirror_mode": {
    "name": "ipython",
    "version": 3
   },
   "file_extension": ".py",
   "mimetype": "text/x-python",
   "name": "python",
   "nbconvert_exporter": "python",
   "pygments_lexer": "ipython3",
   "version": "3.10.4"
  },
  "orig_nbformat": 4,
  "vscode": {
   "interpreter": {
    "hash": "7adbce2b6e7e5f133ffdfc81941aca518029a9627b82a13940b2da088a335493"
   }
  }
 },
 "nbformat": 4,
 "nbformat_minor": 2
}
